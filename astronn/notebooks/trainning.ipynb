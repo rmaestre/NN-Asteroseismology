{
 "cells": [
  {
   "cell_type": "code",
   "execution_count": 4,
   "metadata": {},
   "outputs": [
    {
     "output_type": "stream",
     "name": "stderr",
     "text": "Using TensorFlow backend.\n"
    }
   ],
   "source": [
    "import sys\n",
    "sys.path.append(\"../../\")\n",
    "\n",
    "from astronn import datasets\n",
    "from astronn import models"
   ]
  },
  {
   "cell_type": "markdown",
   "metadata": {},
   "source": [
    "#### Create a dataset with 1Mll theoretical stars oscilations"
   ]
  },
  {
   "cell_type": "code",
   "execution_count": 5,
   "metadata": {},
   "outputs": [
    {
     "output_type": "stream",
     "name": "stdout",
     "text": "WARNING:tensorflow:Entity <function starmodels.csv_reader_dataset.<locals>.<lambda> at 0x7f30bee17560> could not be transformed and will be executed as-is. Please report this to the AutoGraph team. When filing the bug, set the verbosity to 10 (on Linux, `export AUTOGRAPH_VERBOSITY=10`) and attach the full output. Cause: module 'gast' has no attribute 'Str'\nWARNING: Entity <function starmodels.csv_reader_dataset.<locals>.<lambda> at 0x7f30bee17560> could not be transformed and will be executed as-is. Please report this to the AutoGraph team. When filing the bug, set the verbosity to 10 (on Linux, `export AUTOGRAPH_VERBOSITY=10`) and attach the full output. Cause: module 'gast' has no attribute 'Str'\nWARNING:tensorflow:Entity <bound method starmodels.parse_csv_line of <astronn.datasets.starmodels.starmodels object at 0x7f30bee11ed0>> could not be transformed and will be executed as-is. Please report this to the AutoGraph team. When filing the bug, set the verbosity to 10 (on Linux, `export AUTOGRAPH_VERBOSITY=10`) and attach the full output. Cause: Bad argument number for Name: 3, expecting 4\nWARNING: Entity <bound method starmodels.parse_csv_line of <astronn.datasets.starmodels.starmodels object at 0x7f30bee11ed0>> could not be transformed and will be executed as-is. Please report this to the AutoGraph team. When filing the bug, set the verbosity to 10 (on Linux, `export AUTOGRAPH_VERBOSITY=10`) and attach the full output. Cause: Bad argument number for Name: 3, expecting 4\n[<tf.Tensor 'DecodeCSV:1625' shape=() dtype=float32>]\n"
    }
   ],
   "source": [
    "star_models = datasets.starmodels()\n",
    "df = star_models.load(\"/home/roberto/Downloads/dataall_parts/*\")"
   ]
  },
  {
   "cell_type": "markdown",
   "metadata": {},
   "source": [
    "#### Print sample vectors from Dataset"
   ]
  },
  {
   "cell_type": "code",
   "execution_count": 6,
   "metadata": {},
   "outputs": [
    {
     "output_type": "stream",
     "name": "stdout",
     "text": "(<tf.Tensor: id=1718, shape=(150, 406, 3), dtype=float32, numpy=\narray([[[ 0.    ,  0.    ,  1.    ],\n        [ 0.    ,  1.    ,  0.9898],\n        [ 0.    ,  0.    ,  0.912 ],\n        ...,\n        [ 0.    ,  0.    ,  0.0404],\n        [ 0.    ,  0.    ,  0.0467],\n        [ 0.    ,  0.    ,  0.0887]],\n\n       [[ 0.    ,  0.    ,  1.    ],\n        [ 0.    ,  1.    ,  0.9906],\n        [ 0.    ,  0.    ,  0.9191],\n        ...,\n        [ 0.    ,  0.    , -0.0244],\n        [ 0.    ,  0.    , -0.0277],\n        [ 0.    ,  0.    ,  0.2013]],\n\n       [[ 0.    ,  1.    ,  1.    ],\n        [ 0.    ,  0.    ,  0.9903],\n        [ 0.    ,  0.    ,  0.916 ],\n        ...,\n        [ 0.    ,  0.    ,  0.0086],\n        [ 0.    ,  0.    ,  0.0081],\n        [ 0.    ,  0.    ,  0.1338]],\n\n       ...,\n\n       [[ 0.    ,  1.    ,  1.    ],\n        [ 0.    ,  0.    ,  0.9895],\n        [ 0.    ,  0.    ,  0.9097],\n        ...,\n        [ 0.    ,  0.    ,  0.0715],\n        [ 0.    ,  0.    ,  0.0557],\n        [ 0.    ,  0.    ,  0.194 ]],\n\n       [[ 0.    ,  0.    ,  0.9999],\n        [ 0.    ,  1.    ,  0.9896],\n        [ 0.    ,  0.    ,  0.9105],\n        ...,\n        [ 0.    ,  0.    ,  0.0605],\n        [ 0.    ,  0.    ,  0.0605],\n        [ 0.    ,  0.    ,  0.0839]],\n\n       [[ 0.    ,  0.    ,  1.    ],\n        [ 0.    ,  0.    ,  0.9894],\n        [ 0.    ,  0.    ,  0.9085],\n        ...,\n        [ 0.    ,  0.    ,  0.046 ],\n        [ 0.    ,  0.    ,  0.0684],\n        [ 0.    ,  0.    ,  0.1297]]], dtype=float32)>, <tf.Tensor: id=1719, shape=(150, 1, 100), dtype=float32, numpy=\narray([[[0., 0., 0., ..., 0., 0., 0.]],\n\n       [[0., 0., 0., ..., 0., 0., 0.]],\n\n       [[0., 0., 0., ..., 0., 0., 0.]],\n\n       ...,\n\n       [[0., 0., 0., ..., 0., 0., 0.]],\n\n       [[0., 0., 0., ..., 0., 0., 0.]],\n\n       [[0., 0., 0., ..., 0., 0., 0.]]], dtype=float32)>)\n"
    }
   ],
   "source": [
    "for row in df.take(1):\n",
    "    print(row)"
   ]
  },
  {
   "cell_type": "markdown",
   "metadata": {},
   "source": [
    "#### Create a Seprabale convolution model"
   ]
  },
  {
   "cell_type": "code",
   "execution_count": 7,
   "metadata": {},
   "outputs": [
    {
     "output_type": "stream",
     "name": "stdout",
     "text": "Model: \"sequential\"\n_________________________________________________________________\nLayer (type)                 Output Shape              Param #   \n=================================================================\nseparable_conv1d (SeparableC (None, 397, 5)            140       \n_________________________________________________________________\nseparable_conv1d_1 (Separabl (None, 393, 5)            155       \n_________________________________________________________________\nseparable_conv1d_2 (Separabl (None, 392, 5)            110       \n_________________________________________________________________\nmax_pooling1d (MaxPooling1D) (None, 130, 5)            0         \n_________________________________________________________________\nbatch_normalization (BatchNo (None, 130, 5)            20        \n_________________________________________________________________\ndropout (Dropout)            (None, 130, 5)            0         \n_________________________________________________________________\nflatten (Flatten)            (None, 650)               0         \n_________________________________________________________________\ndense (Dense)                (None, 200)               130200    \n_________________________________________________________________\ndense_1 (Dense)              (None, 100)               20100     \n=================================================================\nTotal params: 150,725\nTrainable params: 150,715\nNon-trainable params: 10\n_________________________________________________________________\n"
    }
   ],
   "source": [
    "sepconv_mod = models.separableconvnn() #init model\n",
    "sepconv_mod.compile() # compile model"
   ]
  },
  {
   "cell_type": "code",
   "execution_count": 8,
   "metadata": {},
   "outputs": [
    {
     "output_type": "error",
     "ename": "NameError",
     "evalue": "name 'train_set' is not defined",
     "traceback": [
      "\u001b[0;31m---------------------------------------------------------------------------\u001b[0m",
      "\u001b[0;31mNameError\u001b[0m                                 Traceback (most recent call last)",
      "\u001b[0;32m<ipython-input-8-648b848c249c>\u001b[0m in \u001b[0;36m<module>\u001b[0;34m\u001b[0m\n\u001b[0;32m----> 1\u001b[0;31m \u001b[0mhistory\u001b[0m \u001b[0;34m=\u001b[0m \u001b[0msepconv_mod\u001b[0m\u001b[0;34m.\u001b[0m\u001b[0mfit\u001b[0m\u001b[0;34m(\u001b[0m\u001b[0mdf\u001b[0m\u001b[0;34m)\u001b[0m\u001b[0;34m\u001b[0m\u001b[0;34m\u001b[0m\u001b[0m\n\u001b[0m",
      "\u001b[0;32m~/Projects/NN-Asteroseismology/astronn/models/separableconvnn.py\u001b[0m in \u001b[0;36mfit\u001b[0;34m(self, dataset)\u001b[0m\n\u001b[1;32m     59\u001b[0m         \"\"\"\n\u001b[1;32m     60\u001b[0m \u001b[0;34m\u001b[0m\u001b[0m\n\u001b[0;32m---> 61\u001b[0;31m         \u001b[0mhistory\u001b[0m \u001b[0;34m=\u001b[0m \u001b[0mself\u001b[0m\u001b[0;34m.\u001b[0m\u001b[0mmodel\u001b[0m\u001b[0;34m.\u001b[0m\u001b[0mfit\u001b[0m\u001b[0;34m(\u001b[0m\u001b[0mtrain_set\u001b[0m\u001b[0;34m,\u001b[0m \u001b[0msteps_per_epoch\u001b[0m\u001b[0;34m=\u001b[0m\u001b[0;36m100\u001b[0m\u001b[0;34m,\u001b[0m \u001b[0mepochs\u001b[0m\u001b[0;34m=\u001b[0m\u001b[0;36m20\u001b[0m\u001b[0;34m)\u001b[0m\u001b[0;34m\u001b[0m\u001b[0;34m\u001b[0m\u001b[0m\n\u001b[0m\u001b[1;32m     62\u001b[0m         \u001b[0;32mreturn\u001b[0m \u001b[0mhistory\u001b[0m\u001b[0;34m\u001b[0m\u001b[0;34m\u001b[0m\u001b[0m\n\u001b[1;32m     63\u001b[0m \u001b[0;34m\u001b[0m\u001b[0m\n",
      "\u001b[0;31mNameError\u001b[0m: name 'train_set' is not defined"
     ]
    }
   ],
   "source": [
    "history = sepconv_mod.fit(df)"
   ]
  }
 ],
 "metadata": {
  "language_info": {
   "codemirror_mode": {
    "name": "ipython",
    "version": 3
   },
   "file_extension": ".py",
   "mimetype": "text/x-python",
   "name": "python",
   "nbconvert_exporter": "python",
   "pygments_lexer": "ipython3",
   "version": "3.7.6-final"
  },
  "orig_nbformat": 2,
  "kernelspec": {
   "name": "python3",
   "display_name": "Python 3"
  }
 },
 "nbformat": 4,
 "nbformat_minor": 2
}