{
 "cells": [
  {
   "cell_type": "code",
   "execution_count": null,
   "source": [
    "import sys\n",
    "\n",
    "sys.path.append(\"../../\")\n",
    "\n",
    "from astronn.datasets import deltascuti, bedding, corot, starmodels\n",
    "from astronn.utils import inferences\n",
    "from astronn.utils.metrics import *\n",
    "from astronn import models\n",
    "\n",
    "import tensorflow as tf\n",
    "tf.autograph.set_verbosity(0)\n",
    "from tensorflow import keras\n",
    "\n",
    "import pandas as pd\n",
    "import matplotlib.pyplot as plt"
   ],
   "outputs": [],
   "metadata": {}
  },
  {
   "cell_type": "markdown",
   "source": [
    "#### Load stars datasets"
   ],
   "metadata": {}
  },
  {
   "cell_type": "code",
   "execution_count": null,
   "source": [
    "# Read dataset with astroseismology info (dft, ac, hod, ...)\n",
    "df_ds = deltascuti()\n",
    "df_delta_scuti = df_ds.load(\n",
    "    \"../../astronn/data/deltascuti/preprocessed/*\", batch_size=1\n",
    ")\n",
    "\n",
    "# Read csv with other phisical paramters (L, Teff, ..)\n",
    "csv_delta_scuti = pd.read_csv(\"../data/deltascuti/binaries_obs.csv\")\n",
    "csv_delta_scuti"
   ],
   "outputs": [],
   "metadata": {}
  },
  {
   "cell_type": "code",
   "execution_count": null,
   "source": [
    "# Read dataset with astroseismology info (dft, ac, hod, ...)\n",
    "bedding_stars = bedding()\n",
    "df_bedding = bedding_stars.load(\"../data/bedding/preprocessed/*\", batch_size=1)\n",
    "\n",
    "# Read csv with other phisical paramters (L, Teff, ..)\n",
    "csv_bedding = pd.io.parsers.read_csv(\"../data/bedding/bedding_teff_logg_rad.csv\", sep=\",\")\n",
    "csv_bedding"
   ],
   "outputs": [],
   "metadata": {}
  },
  {
   "cell_type": "markdown",
   "source": [
    "### Load pretrainned NN model"
   ],
   "metadata": {}
  },
  {
   "cell_type": "code",
   "execution_count": null,
   "source": [
    "sepconv_mod = tf.keras.models.load_model(\n",
    "    \"/home/roberto/Projects/best_train/sepconvnn_tmp_dos_200/\"\n",
    ")\n",
    "sepconv_mod.summary()"
   ],
   "outputs": [],
   "metadata": {}
  },
  {
   "cell_type": "markdown",
   "source": [
    "### Load $\\rho$ Roche models"
   ],
   "metadata": {}
  },
  {
   "cell_type": "code",
   "execution_count": null,
   "source": [
    "models = pd.read_csv(\n",
    "    \"/home/roberto/Downloads/evolutionTracks_line_rho_roche/models_params.csv\",\n",
    "    header=None,\n",
    "    names=[\"Teff\", \"Dnu\", \"L_must\", \"rho_roche\"],\n",
    ")\n",
    "\n",
    "\n",
    "def get_avg_rho_roche(teff, l, e_teff=300, e_l=1):\n",
    "    \"\"\"\n",
    "    Get rho from Roche models by constrainning star models based\n",
    "    on L and Teff. If there is not rsults, an adaptative search\n",
    "    is performed\n",
    "    \"\"\"\n",
    "    id_teff = models[\"Teff\"].between(teff - e_teff, teff + e_teff, inclusive=True)\n",
    "    id_l = models[\"L_must\"].between(l - e_l, l + e_l, inclusive=True)\n",
    "    max_adaptative_iters = 1\n",
    "    iters_count = 0\n",
    "    while len(models[(id_teff & id_l)]) == 0 and iters_count < max_adaptative_iters :\n",
    "        e_teff += 300\n",
    "        id_teff = models[\"Teff\"].between(teff - e_teff, teff + e_teff, inclusive=True)\n",
    "        iters_count += 1\n",
    "        print(\" ***warning, adaptative step performed on star models rho Roche search\")\n",
    "    return models[(id_teff & id_l)][\"rho_roche\"]\n",
    "\n",
    "plt.hist(get_avg_rho_roche(8920.860521, 60))\n",
    "plt.show()"
   ],
   "outputs": [],
   "metadata": {}
  },
  {
   "cell_type": "code",
   "execution_count": null,
   "source": [
    "models.head()"
   ],
   "outputs": [],
   "metadata": {}
  },
  {
   "cell_type": "markdown",
   "source": [
    "## Results for 11 Binary DS Stars"
   ],
   "metadata": {}
  },
  {
   "cell_type": "code",
   "execution_count": null,
   "source": [
    "inf = inferences()\n",
    "df_results_delta_scuti = inf.get_processed_inferences(\n",
    "    nn_model=sepconv_mod,\n",
    "    df_stars=df_delta_scuti,\n",
    "    take_number=11,\n",
    "    csv_L=csv_delta_scuti,\n",
    "    debug=True,\n",
    ")\n",
    "df_results_delta_scuti.id = df_results_delta_scuti.id.str.upper()"
   ],
   "outputs": [],
   "metadata": {}
  },
  {
   "cell_type": "code",
   "execution_count": null,
   "source": [
    "inf.plot_inferences(\n",
    "    df_results_delta_scuti,\n",
    "    plot_title=\"Results for NN $top_{1,2,3}$ $\\Delta\\\\nu$, in 11 binaries stars\",\n",
    "    plot_size=(7, 4),\n",
    ")"
   ],
   "outputs": [],
   "metadata": {}
  },
  {
   "cell_type": "code",
   "execution_count": null,
   "source": [
    "df_results_delta_scuti_merged = df_results_delta_scuti.merge(csv_delta_scuti , left_on=\"id\", right_on=\"ID\", how=\"left\").drop('ID', 1)\n",
    "df_results_delta_scuti_merged"
   ],
   "outputs": [],
   "metadata": {}
  },
  {
   "cell_type": "markdown",
   "source": [
    "#### Select the closest $\\text{top}_1$ or $\\text{top}_2$ to the RM relation"
   ],
   "metadata": {}
  },
  {
   "cell_type": "code",
   "execution_count": null,
   "source": [
    "def check_dnu_in_RM_relation(dnu, rho):\n",
    "    \"\"\"\n",
    "    \"\"\"\n",
    "    # Get rho with upper and lower limits\n",
    "    rs = get_rho(dnu / dnu_sun)\n",
    "    rs_upper = get_rho_upper_bound(dnu / dnu_sun)\n",
    "    rs_lower = get_rho_lower_bound(dnu / dnu_sun)\n",
    "\n",
    "    # Check if proposed rho is inside bands\n",
    "    if rho >= rs_lower and rho <= rs_upper:\n",
    "        return True\n",
    "    else:\n",
    "        return False\n",
    "\n",
    "\n",
    "df_results_delta_scuti_merged[[\"top1\", \"rho-gh17\"]].apply(\n",
    "    lambda x: check_dnu_in_RM_relation(x[\"top1\"], x[\"rho-gh17\"]), axis=1\n",
    ")"
   ],
   "outputs": [],
   "metadata": {}
  },
  {
   "cell_type": "code",
   "execution_count": null,
   "source": [
    "# Select best from top1, top1/2 or top1*2\n",
    "tops_ds = inferences.select_best_top1(df_results_delta_scuti_merged, target_column=\"rho-gh17\")\n",
    "print(tops_ds)"
   ],
   "outputs": [],
   "metadata": {}
  },
  {
   "cell_type": "code",
   "execution_count": null,
   "source": [
    "inferences.plot_relation_rodriguez(\n",
    "    dnus=df_results_delta_scuti_merged[\"top1\"].values.astype(float),\n",
    "    rhos=df_results_delta_scuti_merged[\"rho-gh17\"].values.astype(float),\n",
    "    ednus=df_results_delta_scuti_merged[\"e-top1\"].values.astype(float),\n",
    "    points_ids=df_results_delta_scuti_merged[\"id\"],\n",
    "    plot_title=\"11 binary stars\",\n",
    "    points_label=\"$Top_1$\",\n",
    ")\n",
    "\n",
    "inferences.plot_relation_rodriguez(\n",
    "    dnus=tops_ds.astype(float),\n",
    "    rhos=df_results_delta_scuti_merged[\"rho-gh17\"].values.astype(float),\n",
    "    ednus=df_results_delta_scuti_merged[\"e-top1\"].values.astype(float),\n",
    "    points_ids=df_results_delta_scuti_merged[\"id\"],\n",
    "    plot_title=\"11 binary stars\",\n",
    "    points_label=\"Best of $\\{Top_{1}, \\\\frac{1}{2}Top_{1}, 2Top_{1} \\}$\",\n",
    ")"
   ],
   "outputs": [],
   "metadata": {}
  },
  {
   "cell_type": "markdown",
   "source": [
    "## Results for 57 Bedding stars\n"
   ],
   "metadata": {}
  },
  {
   "cell_type": "code",
   "execution_count": null,
   "source": [
    "df_results_bedding = inf.get_processed_inferences(\n",
    "    nn_model=sepconv_mod,\n",
    "    df_stars=df_bedding,\n",
    "    take_number=57,\n",
    "    csv_L=csv_bedding,\n",
    "    debug=False,\n",
    ")"
   ],
   "outputs": [],
   "metadata": {}
  },
  {
   "cell_type": "code",
   "execution_count": null,
   "source": [
    "df_results_bedding[\"TIC\"] = df_results_bedding[\"id\"].str.split(\"-\").str[2].astype(int)\n",
    "df_bedding_att = pd.io.parsers.read_csv(\n",
    "    \"../data/bedding/bedding_teff_logg_rad.csv\", sep=\",\", index_col=0\n",
    ")\n",
    "df_bedding_att\n",
    "df_bedding_att = df_bedding_att.head(57)\n",
    "df_bedding_att[\"TIC\"] = df_bedding_att[\"TIC\"].astype(int)\n",
    "\n",
    "# Merge\n",
    "df_results_bedding_merged = df_results_bedding.merge(\n",
    "    df_bedding_att, left_on=\"TIC\", right_on=\"TIC\", how=\"left\"\n",
    ")\n",
    "\n",
    "# Replace L and Teff Bedding values, for MAST values when NaN\n",
    "df_results_bedding_merged.L.fillna(df_results_bedding_merged.L_mast, inplace=True)\n",
    "df_results_bedding_merged.Teff.fillna(df_results_bedding_merged.Teff_mast, inplace=True)"
   ],
   "outputs": [],
   "metadata": {}
  },
  {
   "cell_type": "code",
   "execution_count": null,
   "source": [
    "inf.plot_inferences(\n",
    "    df_results_bedding_merged,\n",
    "    plot_title=\"Results for NN $top_{1,2,3}$ $\\Delta\\\\nu$, in 57 Bedding stars\",\n",
    "    plot_size=(14, 4),\n",
    ")"
   ],
   "outputs": [],
   "metadata": {}
  },
  {
   "cell_type": "code",
   "execution_count": null,
   "source": [],
   "outputs": [],
   "metadata": {}
  },
  {
   "cell_type": "code",
   "execution_count": null,
   "source": [
    "df_results_bedding_merged[\"avg_rho_roche\"] = df_results_bedding_merged[\n",
    "    [\"Teff\", \"L\"]\n",
    "].apply(lambda x: np.average(get_avg_rho_roche(x[\"Teff\"], x[\"L\"])), axis=1)\n",
    "df_results_bedding_merged"
   ],
   "outputs": [],
   "metadata": {}
  },
  {
   "cell_type": "code",
   "execution_count": null,
   "source": [
    "plt.hist(df_results_bedding_merged[\"avg_rho_roche\"], bins=100)\n",
    "plt.xlabel(\"$\\\\rho$ Roche\")\n",
    "plt.show()"
   ],
   "outputs": [],
   "metadata": {}
  },
  {
   "cell_type": "code",
   "execution_count": null,
   "source": [
    "tops_bedding = inferences.select_best_top1(df_results_bedding_merged, target_column=\"avg_rho_roche\")\n",
    "print(tops_bedding)"
   ],
   "outputs": [],
   "metadata": {}
  },
  {
   "cell_type": "code",
   "execution_count": null,
   "source": [
    "inferences.plot_relation_rodriguez(\n",
    "    dnus=df_results_bedding_merged[\"top1\"].values.astype(float),\n",
    "    rhos=df_results_bedding_merged[\"avg_rho_roche\"].values.astype(float),\n",
    "    ednus=df_results_bedding_merged[\"e-top1\"].values.astype(float),\n",
    "    points_ids=None,\n",
    "    plot_title=\"57 Bedding stars (avg $\\\\rho$ Roche)\",\n",
    "    points_label=\"$Top_1$\",\n",
    "    relation_line_range=(0.15, 1.3),\n",
    ")\n",
    "\n",
    "inferences.plot_relation_rodriguez(\n",
    "    dnus=tops_bedding.astype(float),\n",
    "    rhos=df_results_bedding_merged[\"avg_rho_roche\"].values.astype(float),\n",
    "    ednus=df_results_bedding_merged[\"e-top1\"].values.astype(float),\n",
    "    points_ids=None,\n",
    "    plot_title=\"57 Bedding stars (avg $\\\\rho$ Roche)\",\n",
    "    points_label=\"Best of $\\{Top_{1}, \\\\frac{1}{2}Top_{1}, 2Top_{1} \\}$\",\n",
    "    relation_line_range=(0.2, 1.3),\n",
    ")"
   ],
   "outputs": [],
   "metadata": {}
  },
  {
   "cell_type": "markdown",
   "source": [
    "### Histogram of $\\rho$ Roche distributions for every single star (57 Bedding stars)"
   ],
   "metadata": {}
  },
  {
   "cell_type": "code",
   "execution_count": null,
   "source": [
    "for i, row in df_results_bedding_merged.iterrows():\n",
    "    avg_rho_roche = np.median(get_avg_rho_roche(row[\"Teff\"], row[\"L\"]))\n",
    "    plt.hist(get_avg_rho_roche(row[\"Teff\"], row[\"L\"]), bins=100)\n",
    "    plt.axvline(x=avg_rho_roche, color=\"green\")\n",
    "    plt.title(row[\"id\"])\n",
    "    plt.xlim(0.1, 1.0)\n",
    "    plt.show()\n",
    "    if i == 5:\n",
    "        break"
   ],
   "outputs": [],
   "metadata": {}
  },
  {
   "cell_type": "markdown",
   "source": [
    "# CoRoT Stars"
   ],
   "metadata": {}
  },
  {
   "cell_type": "code",
   "execution_count": null,
   "source": [
    "# Read datasets of preprocessed stars\n",
    "df_corot = corot()\n",
    "df_cor = df_corot.load(\"../../astronn/data/corot/preprocessed/*.log\", batch_size=1)"
   ],
   "outputs": [],
   "metadata": {}
  },
  {
   "cell_type": "code",
   "execution_count": null,
   "source": [
    "df_results_corot = inf.get_processed_inferences(\n",
    "    nn_model=sepconv_mod,\n",
    "    df_stars=df_cor,\n",
    "    take_number=75,\n",
    "    csv_L=None,\n",
    "    debug=False,\n",
    "    dnu_target=False\n",
    ")"
   ],
   "outputs": [],
   "metadata": {}
  },
  {
   "cell_type": "code",
   "execution_count": null,
   "source": [
    "# Add L and Teff directly from star data\n",
    "df_results_corot[\"L\"] = np.nan\n",
    "df_results_corot[\"Teff\"] = np.nan\n",
    "\n",
    "for star in df_cor.take(75):\n",
    "    id = int(star[0].numpy()[0].decode(\"utf-8\"))\n",
    "    # Loc star\n",
    "    df_results_corot.loc[df_results_corot.id == str(id), [\"Teff\"]] = star[3].numpy()[0]\n",
    "    df_results_corot.loc[df_results_corot.id == str(id), [\"L\"]] = star[4].numpy()[0]"
   ],
   "outputs": [],
   "metadata": {}
  },
  {
   "cell_type": "code",
   "execution_count": null,
   "source": [
    "df_results_corot[df_results_corot['L'] == 0]\n",
    "\n",
    "df_results_corot[\"L_mast\"] = np.nan\n",
    "df_results_corot[\"Teff_mast\"] = np.nan\n",
    "\n",
    "from astroquery.mast import Observations, Catalogs\n",
    "\n",
    "for star_name in [\"TIC %s\" % str(e) for e in df_results_corot[\"id\"].values]:\n",
    "    try:\n",
    "        catalogTIC = Catalogs.query_object(\n",
    "            star_name, radius=0.00033, catalog=\"TIC\", mission=\"TESS\", data_release=8.2\n",
    "        )\n",
    "        df_results_corot.loc[df_results_corot.id == star_name.split(\" \")[1], [\"L_mast\"]] = catalogTIC[\"lum\"]\n",
    "        df_results_corot.loc[df_results_corot.id == star_name.split(\" \")[1], [\"Teff_mast\"]] = catalogTIC[\"Teff\"]\n",
    "    except:\n",
    "        print(\"Problems in %s\" % star_name)\n"
   ],
   "outputs": [],
   "metadata": {}
  },
  {
   "cell_type": "code",
   "execution_count": null,
   "source": [
    "df_results_corot.head(10)"
   ],
   "outputs": [],
   "metadata": {}
  },
  {
   "cell_type": "code",
   "execution_count": null,
   "source": [
    "plt.scatter(df_results_corot[\"Teff\"], df_results_corot[\"Teff_mast\"])\n",
    "plt.ylabel(\"Teff MAST\")\n",
    "plt.xlabel(\"Teff Paparó\")\n",
    "plt.show()"
   ],
   "outputs": [],
   "metadata": {}
  },
  {
   "cell_type": "code",
   "execution_count": null,
   "source": [
    "plt.hist(df_results_corot[df_results_corot[\"L\"]<1000][\"L\"], label=\"L\")\n",
    "plt.hist(df_results_corot[df_results_corot[\"L\"]<1000][\"L_mast\"], label=\"L MAST\")\n",
    "plt.legend()\n",
    "plt.show()"
   ],
   "outputs": [],
   "metadata": {}
  },
  {
   "cell_type": "code",
   "execution_count": null,
   "source": [
    "df_results_corot[\"avg_rho_roche\"] = df_results_corot[\n",
    "    [\"Teff\", \"L\"]\n",
    "].apply(lambda x: np.average(get_avg_rho_roche(x[\"Teff\"], x[\"L\"])), axis=1)\n",
    "df_results_corot"
   ],
   "outputs": [],
   "metadata": {}
  },
  {
   "cell_type": "code",
   "execution_count": null,
   "source": [
    "for i, row in df_results_corot.iterrows():\n",
    "    avg_rho_roche = np.median(get_avg_rho_roche(row[\"Teff\"], row[\"L\"]))\n",
    "    plt.hist(get_avg_rho_roche(row[\"Teff\"], row[\"L\"]), bins=100)\n",
    "    plt.axvline(x=avg_rho_roche, color=\"green\")\n",
    "    plt.title(row[\"id\"])\n",
    "    plt.xlim(0.1, 1.0)\n",
    "    plt.show()\n",
    "    if i == 5:\n",
    "        break"
   ],
   "outputs": [],
   "metadata": {}
  },
  {
   "cell_type": "code",
   "execution_count": null,
   "source": [
    "tops_corot = inferences.select_best_top1(df_results_corot, target_column=\"avg_rho_roche\")\n",
    "print(tops_corot)"
   ],
   "outputs": [],
   "metadata": {}
  },
  {
   "cell_type": "code",
   "execution_count": null,
   "source": [
    "inferences.plot_relation_rodriguez(\n",
    "    dnus=df_results_corot[\"top1\"].values.astype(float),\n",
    "    rhos=df_results_corot[\"avg_rho_roche\"].values.astype(float),\n",
    "    ednus=df_results_corot[\"e-top1\"].values.astype(float),\n",
    "    points_ids=None,\n",
    "    plot_title=\"75 CoRoT stars (avg $\\\\rho$ Roche)\",\n",
    "    points_label=\"$Top_1$\",\n",
    "    relation_line_range=(0.15, 1.3),\n",
    ")\n",
    "\n",
    "inferences.plot_relation_rodriguez(\n",
    "    dnus=tops_corot.astype(float),\n",
    "    rhos=df_results_corot[\"avg_rho_roche\"].values.astype(float),\n",
    "    ednus=df_results_corot[\"e-top1\"].values.astype(float),\n",
    "    points_ids=None,\n",
    "    plot_title=\"75 CoRoT stars (avg $\\\\rho$ Roche)\",\n",
    "    points_label=\"Best of $\\{Top_{1}, \\\\frac{1}{2}Top_{1}, 2Top_{1} \\}$\",\n",
    "    relation_line_range=(0.2, 1.3),\n",
    ")"
   ],
   "outputs": [],
   "metadata": {}
  }
 ],
 "metadata": {
  "interpreter": {
   "hash": "f1a770bbd7d56546fd23d64fa36e2d8465fea16bd5a1c87d5c9655e206fccc33"
  },
  "kernelspec": {
   "name": "python3",
   "display_name": "Python 3.7.6 64-bit ('tensorflow_gpuenv': conda)"
  },
  "language_info": {
   "codemirror_mode": {
    "name": "ipython",
    "version": 3
   },
   "file_extension": ".py",
   "mimetype": "text/x-python",
   "name": "python",
   "nbconvert_exporter": "python",
   "pygments_lexer": "ipython3",
   "version": "3.7.6"
  }
 },
 "nbformat": 4,
 "nbformat_minor": 2
}