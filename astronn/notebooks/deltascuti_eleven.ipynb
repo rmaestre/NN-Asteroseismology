{
 "cells": [
  {
   "cell_type": "code",
   "execution_count": 1,
   "metadata": {
    "tags": []
   },
   "outputs": [
    {
     "output_type": "stream",
     "name": "stderr",
     "text": "Using TensorFlow backend.\n"
    }
   ],
   "source": [
    "import sys\n",
    "sys.path.append(\"../../\")\n",
    "\n",
    "from astronn.preprocess import predeltascuti\n",
    "from astronn.datasets import deltascuti, starmodels\n",
    "from astronn import models\n",
    "\n",
    "import tensorflow as tf\n",
    "import numpy as np\n",
    "import shap\n",
    "\n",
    "import matplotlib.pyplot as plt"
   ]
  },
  {
   "cell_type": "code",
   "execution_count": 20,
   "metadata": {},
   "outputs": [],
   "source": [
    "# Preprocess eleven delta scuti stars\n",
    "preprocessor = predeltascuti()\n",
    "preprocessor.preprocess_files(\n",
    "    input_folder=\"../../astronn/data/deltascuti/raw/*\",\n",
    "    output_folder=\"../../astronn/data/deltascuti/preprocessed/\",\n",
    ")"
   ]
  },
  {
   "cell_type": "markdown",
   "metadata": {},
   "source": [
    "#### Utils functions"
   ]
  },
  {
   "cell_type": "code",
   "execution_count": 22,
   "metadata": {},
   "outputs": [],
   "source": [
    "def normalize(x):\n",
    "    \"\"\"\n",
    "    \"\"\"\n",
    "    return (x - np.min(x)) / (np.max(x) - np.min(x))\n",
    "\n",
    "# Custom metrics\n",
    "def top_2_categorical_accuracy(y_true, y_pred):\n",
    "    return tf.keras.metrics.top_k_categorical_accuracy(y_true, y_pred, k=2)\n",
    "\n",
    "def top_4_categorical_accuracy(y_true, y_pred):\n",
    "    return tf.keras.metrics.top_k_categorical_accuracy(y_true, y_pred, k=4)\n",
    "\n",
    "def top_6_categorical_accuracy(y_true, y_pred):\n",
    "    return tf.keras.metrics.top_k_categorical_accuracy(y_true, y_pred, k=6)\n",
    "\n",
    "def top_8_categorical_accuracy(y_true, y_pred):\n",
    "    return tf.keras.metrics.top_k_categorical_accuracy(y_true, y_pred, k=8)\n",
    "\n",
    "def calculate_shap_by_gradient(model, x_explain):\n",
    "    \"\"\"\n",
    "    \"\"\"\n",
    "    e = shap.GradientExplainer(model, x_train, batch_size=1000, local_smoothing=0)\n",
    "    shap_values, indexes = e.shap_values(x_explain, nsamples=10000, ranked_outputs=5)\n",
    "    return shap_values, indexes"
   ]
  },
  {
   "cell_type": "code",
   "execution_count": null,
   "metadata": {
    "tags": []
   },
   "outputs": [],
   "source": [
    "# Load best model.\n",
    "#sepconv_mod = tf.keras.models.load_model(\n",
    "#    \"/home/roberto/Projects/asteroseismologyNN/models/model_dnu_noisy.h5\",\n",
    "#    custom_objects={\"rec_at_2\": top_2_categorical_accuracy,\n",
    "#                    \"rec_at_4\": top_4_categorical_accuracy,\n",
    "#                    \"recat_6\": top_6_categorical_accuracy,\n",
    "#                    \"rec_at_8\": top_8_categorical_accuracy}\n",
    "#)"
   ]
  },
  {
   "cell_type": "markdown",
   "metadata": {},
   "source": [
    "#### Process 11 ds stars, infer Dnu and calculate shap values explanations"
   ]
  },
  {
   "cell_type": "code",
   "execution_count": 23,
   "metadata": {
    "tags": []
   },
   "outputs": [
    {
     "output_type": "stream",
     "name": "stdout",
     "text": "WARNING:tensorflow:Entity <function deltascuti.csv_reader_dataset.<locals>.<lambda> at 0x7f9e5ff7e0e0> could not be transformed and will be executed as-is. Please report this to the AutoGraph team. When filing the bug, set the verbosity to 10 (on Linux, `export AUTOGRAPH_VERBOSITY=10`) and attach the full output. Cause: module 'gast' has no attribute 'Str'\nWARNING: Entity <function deltascuti.csv_reader_dataset.<locals>.<lambda> at 0x7f9e5ff7e0e0> could not be transformed and will be executed as-is. Please report this to the AutoGraph team. When filing the bug, set the verbosity to 10 (on Linux, `export AUTOGRAPH_VERBOSITY=10`) and attach the full output. Cause: module 'gast' has no attribute 'Str'\nWARNING:tensorflow:Entity <bound method deltascuti.parse_csv_line of <astronn.datasets.deltascuti.deltascuti object at 0x7f9f2426a210>> could not be transformed and will be executed as-is. Please report this to the AutoGraph team. When filing the bug, set the verbosity to 10 (on Linux, `export AUTOGRAPH_VERBOSITY=10`) and attach the full output. Cause: module 'gast' has no attribute 'Num'\nWARNING: Entity <bound method deltascuti.parse_csv_line of <astronn.datasets.deltascuti.deltascuti object at 0x7f9f2426a210>> could not be transformed and will be executed as-is. Please report this to the AutoGraph team. When filing the bug, set the verbosity to 10 (on Linux, `export AUTOGRAPH_VERBOSITY=10`) and attach the full output. Cause: module 'gast' has no attribute 'Num'\nWARNING:tensorflow:Entity <function starmodels.csv_reader_dataset.<locals>.<lambda> at 0x7f9f243ec680> could not be transformed and will be executed as-is. Please report this to the AutoGraph team. When filing the bug, set the verbosity to 10 (on Linux, `export AUTOGRAPH_VERBOSITY=10`) and attach the full output. Cause: module 'gast' has no attribute 'Str'\nWARNING: Entity <function starmodels.csv_reader_dataset.<locals>.<lambda> at 0x7f9f243ec680> could not be transformed and will be executed as-is. Please report this to the AutoGraph team. When filing the bug, set the verbosity to 10 (on Linux, `export AUTOGRAPH_VERBOSITY=10`) and attach the full output. Cause: module 'gast' has no attribute 'Str'\nWARNING:tensorflow:Entity <bound method starmodels.parse_csv_line of <astronn.datasets.starmodels.starmodels object at 0x7f9f2426a810>> could not be transformed and will be executed as-is. Please report this to the AutoGraph team. When filing the bug, set the verbosity to 10 (on Linux, `export AUTOGRAPH_VERBOSITY=10`) and attach the full output. Cause: Bad argument number for Name: 3, expecting 4\nWARNING: Entity <bound method starmodels.parse_csv_line of <astronn.datasets.starmodels.starmodels object at 0x7f9f2426a810>> could not be transformed and will be executed as-is. Please report this to the AutoGraph team. When filing the bug, set the verbosity to 10 (on Linux, `export AUTOGRAPH_VERBOSITY=10`) and attach the full output. Cause: Bad argument number for Name: 3, expecting 4\nWARNING:tensorflow:Entity <function _TFGradientExplainer.gradient.<locals>.grad_graph at 0x7f9e78415d40> could not be transformed and will be executed as-is. Please report this to the AutoGraph team. When filing the bug, set the verbosity to 10 (on Linux, `export AUTOGRAPH_VERBOSITY=10`) and attach the full output. Cause: Bad argument number for Name: 3, expecting 4\nWARNING: Entity <function _TFGradientExplainer.gradient.<locals>.grad_graph at 0x7f9e78415d40> could not be transformed and will be executed as-is. Please report this to the AutoGraph team. When filing the bug, set the verbosity to 10 (on Linux, `export AUTOGRAPH_VERBOSITY=10`) and attach the full output. Cause: Bad argument number for Name: 3, expecting 4\nWARNING:tensorflow:Entity <function _TFGradientExplainer.gradient.<locals>.grad_graph at 0x7f9e7849d440> could not be transformed and will be executed as-is. Please report this to the AutoGraph team. When filing the bug, set the verbosity to 10 (on Linux, `export AUTOGRAPH_VERBOSITY=10`) and attach the full output. Cause: Bad argument number for Name: 3, expecting 4\n"
    }
   ],
   "source": [
    "# Read datasets of preprocessed stars\n",
    "df_ds = deltascuti()\n",
    "df = df_ds.load(\"../../astronn/data/deltascuti/preprocessed/*\", batch_size=1)\n",
    "# Read star models (trainning) to calculate shap values\n",
    "star_models = starmodels()\n",
    "df_sm = star_models.load(\"/home/roberto/Downloads/dataall_parts/*\", batch_size=150)\n",
    "_train_shap = np.asarray([line[0].numpy() for line in df_sm.take(10)])\n",
    "_train_shap = _train_shap.reshape(\n",
    "    (\n",
    "        _train_shap.shape[0] * _train_shap.shape[1],\n",
    "        _train_shap.shape[2],\n",
    "        _train_shap.shape[3],\n",
    "    )\n",
    ")\n",
    "# Load model\n",
    "sepconv_mod = tf.keras.models.load_model(\"/tmp/sepconvnn\")\n",
    "\n",
    "x = np.arange(-1, 100.5, 0.25)  # x axis from 0 to 100\n",
    "for star in df.take(11):  # take the 11 ds stars\n",
    "    target = np.where(star[2].numpy().flat == 1)[0].flat[0]\n",
    "    # Plot information about ds star\n",
    "    fig, (ax1, ax2) = plt.subplots(2, figsize=(10, 10), dpi=200)\n",
    "    ax1.plot(x, star[1][0, :, 0].numpy(), label=\"dft\")\n",
    "    ax1.plot(x, normalize(star[1][0, :, 1].numpy()), alpha=0.5, label=\"hd\")\n",
    "    ax1.plot(x, star[1][0, :, 2].numpy(), label=\"ac\")\n",
    "    target = np.where(star[2].numpy().flat == 1)[0].flat[0]\n",
    "    ax1.axvline(x=target)\n",
    "    ax1.axvline(x=sepconv_mod.predict_classes(star[1]), linestyle=\"--\")\n",
    "    # Calculate gradient explainers and shap values\n",
    "    e = shap.GradientExplainer(\n",
    "        sepconv_mod, _train_shap, batch_size=10, local_smoothing=0\n",
    "    )\n",
    "    shap_values, indexes = e.shap_values(\n",
    "        star[1].numpy(), nsamples=100, ranked_outputs=5\n",
    "    )\n",
    "    print(indexes)\n",
    "    # Plot shap\n",
    "    ax2.plot(x, shap_values[0][0][:, [0]], label=\"dft\", linestyle=\"solid\", color=\"blue\")\n",
    "    ax2.plot(\n",
    "        x, shap_values[0][0][:, [1]], label=\"hd\", linestyle=\"solid\", color=\"orange\"\n",
    "    )\n",
    "    ax2.plot(x, shap_values[0][0][:, [2]], label=\"ac\", linestyle=\"solid\", color=\"green\")\n",
    "    ax2.plot(\n",
    "        x,\n",
    "        shap_values[1][0][:, [0]],\n",
    "        label=\"dft\",\n",
    "        linestyle=\"--\",\n",
    "        color=\"blue\",\n",
    "        alpha=0.5,\n",
    "    )\n",
    "    ax2.plot(\n",
    "        x,\n",
    "        shap_values[1][0][:, [1]],\n",
    "        label=\"hd\",\n",
    "        linestyle=\"--\",\n",
    "        color=\"orange\",\n",
    "        alpha=0.5,\n",
    "    )\n",
    "    ax2.plot(\n",
    "        x,\n",
    "        shap_values[1][0][:, [2]],\n",
    "        label=\"ac\",\n",
    "        linestyle=\"--\",\n",
    "        color=\"green\",\n",
    "        alpha=0.5,\n",
    "    )\n",
    "\n",
    "    ax1.legend(title=\"Channels\")\n",
    "    ax1.title.set_text(\"Neural Network Input channels\" + \" star id:\" + str(star[0].numpy()[0]))\n",
    "    ax2.title.set_text(\n",
    "        \"Shap values\"\n",
    "        + \" [target:\"\n",
    "        + str(indexes[0][0])\n",
    "        + \" \"\n",
    "        + str(indexes[0][1])\n",
    "        + \"]\"\n",
    "    )"
   ]
  }
 ],
 "metadata": {
  "language_info": {
   "codemirror_mode": {
    "name": "ipython",
    "version": 3
   },
   "file_extension": ".py",
   "mimetype": "text/x-python",
   "name": "python",
   "nbconvert_exporter": "python",
   "pygments_lexer": "ipython3",
   "version": "3.7.6-final"
  },
  "orig_nbformat": 2,
  "kernelspec": {
   "name": "python3",
   "display_name": "Python 3"
  }
 },
 "nbformat": 4,
 "nbformat_minor": 2
}